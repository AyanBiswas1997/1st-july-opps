{
 "cells": [
  {
   "cell_type": "code",
   "execution_count": null,
   "id": "77c112d9-4ad9-4fbc-b48b-88af5e5236ef",
   "metadata": {},
   "outputs": [],
   "source": []
  },
  {
   "cell_type": "markdown",
   "id": "9b7c5710-22f0-4324-92ba-df6f59e18161",
   "metadata": {},
   "source": [
    "1.What is the primary goal of Object-Oriented Programming (OOP)?\n",
    "Ans:to bind data and the functions that manipulate that data together, ensuring that only specific functions can access certain data.\n"
   ]
  },
  {
   "cell_type": "markdown",
   "id": "5cbec12a-5a6e-4804-8d6d-454b4c1763ad",
   "metadata": {},
   "source": [
    "2.2. What is an object in Python?\n",
    "Objects are variables that contain data and functions that can be used to manipulate the data."
   ]
  },
  {
   "cell_type": "markdown",
   "id": "c0f571fd-aa70-42bf-af94-d7ce2190f499",
   "metadata": {},
   "source": [
    "3. What is a class in Python?\n",
    "A class is a bluprint of a creating object.It contains the attributes and methods that the object created from it will have."
   ]
  },
  {
   "cell_type": "markdown",
   "id": "9806c74c-3f47-45a7-915a-f8780d155f88",
   "metadata": {},
   "source": [
    "4.What are attributes and methods in a class?\n",
    "attributes and method both are variable which belonging to an object or class which take the information about their properties.\n"
   ]
  },
  {
   "cell_type": "markdown",
   "id": "17c72956-c0ac-48e0-9011-d64869febbbd",
   "metadata": {},
   "source": [
    "5. What is the difference between class variables and instance variables in Python?\n",
    "   Class variable is a variable that shared all instance of the the class.\n",
    "   Instance variables are variables that are specific to each instance of a class. They are defined within methods, typically within the __init__ method.\n",
    "   \n"
   ]
  },
  {
   "cell_type": "markdown",
   "id": "702e99cd-c478-4a34-8e3d-6f5325840da1",
   "metadata": {},
   "source": [
    "  6. What is the purpose of self\n",
    " The self parameter is a reference to the current instance of the class. It allows access to the instance's attributes and methods."
   ]
  },
  {
   "cell_type": "markdown",
   "id": "72e1962a-ab42-4269-b1af-efc18dd2f784",
   "metadata": {},
   "source": [
    " 7. For a library management system, you have to design the \"Book\" class with OOP\r\n",
    " principles in mind. The “Book” class will have following attributes:\r\n",
    " a. title: Represents the title of the book.\r\n",
    " b. author: Represents the author(s) of the book.\r\n",
    " c. isbn: Represents the ISBN (International Standard Book Number) of the book.\r\n",
    " d. publication_year: Represents the year of publication of the book.\r\n",
    " e. available_copies: Represents the number of copies available for checkout.\r\n",
    " The class will also include the following methods:\r\n",
    " a. check_out(self): Decrements the available copies by one if there are copies\r\n",
    " available for checkout.\r\n",
    " b. return_book(self): Increments the available copies by one when a book is\r\n",
    " returned.\r\n",
    " c. display_book_info(self): Displays the information about the book, including its\r\n",
    " attributes and the number of available copies."
   ]
  },
  {
   "cell_type": "code",
   "execution_count": 6,
   "id": "57cba3be-2466-4769-ab01-bae9d691a454",
   "metadata": {},
   "outputs": [],
   "source": [
    "class Book:\n",
    "    def __init__(self,title,author,isbn,publication_year,available_copies):\n",
    "        self.title=title\n",
    "        self.author=author\n",
    "        self.isbn=isbn\n",
    "        self.publication_year=publication_year\n",
    "        self.available_copies=available_copies\n",
    "    def checkout(self):\n",
    "        print(f\"after decreament the number of availabel copies is {self.available_copies}\")\n",
    "    def return_book(self):\n",
    "        print(f\"ater submiting the availabe copies is {self.available_copies}\")\n",
    "    def display_book_info(self):\n",
    "        print(f\"the title of the book is {self.title} the name of the author is {self.author} isbn is {self.isbn}  our publication year is {self.publication_year}\")\n",
    "        \n",
    "    "
   ]
  },
  {
   "cell_type": "code",
   "execution_count": 7,
   "id": "f9644fc8-a02e-4492-8e1d-7ef4984f1a29",
   "metadata": {},
   "outputs": [],
   "source": [
    "bk=Book(\"Gitanjali\",\"Rabindranath Tagore\",\"97806789\",\"1910\",\"170\")"
   ]
  },
  {
   "cell_type": "code",
   "execution_count": 8,
   "id": "05ba0f03-464e-4c90-92b6-b97ebb90f8e8",
   "metadata": {},
   "outputs": [
    {
     "name": "stdout",
     "output_type": "stream",
     "text": [
      "after decreament the number of availabel copies is 170\n"
     ]
    }
   ],
   "source": [
    "bk.checkout()"
   ]
  },
  {
   "cell_type": "code",
   "execution_count": 10,
   "id": "548b3f09-d49f-44ae-8e86-473e036fe6bd",
   "metadata": {},
   "outputs": [
    {
     "name": "stdout",
     "output_type": "stream",
     "text": [
      "the title of the book is Gitanjali the name of the author is Rabindranath Tagore isbn is 97806789  our publication year is 1910\n"
     ]
    }
   ],
   "source": [
    "bk.display_book_info()"
   ]
  },
  {
   "cell_type": "code",
   "execution_count": 12,
   "id": "3ae597a8-25a2-4300-9508-581adaaa14f4",
   "metadata": {},
   "outputs": [
    {
     "name": "stdout",
     "output_type": "stream",
     "text": [
      "ater submiting the availabe copies is 170\n"
     ]
    }
   ],
   "source": [
    "bk.return_book()"
   ]
  },
  {
   "cell_type": "markdown",
   "id": "6d343b94-eb93-4461-8446-2a9764b88d3c",
   "metadata": {},
   "source": [
    " 8. For a ticket booking system, you have to design the \"Ticket\" class with OOP\r\n",
    " principles in mind. The “Ticket” class should have the following attributes:\r\n",
    " a. ticket_id: Represents the unique identifier for the ticket.\r\n",
    " b. event_name: Represents the name of the event.\r\n",
    " c. event_date: Represents the date of the event.\r\n",
    " d. venue: Represents the venue of the event.\r\n",
    " e. seat_number: Represents the seat number associated with the ticket.\r\n",
    " f.\r\n",
    " price: Represents the price of the ticket.\r\n",
    " g. is_reserved: Represents the reservation status of the ticket.\r\n",
    " The class also includes the following methods:\r\n",
    " a. reserve_ticket(self): Marks the ticket as reserved if it is not already reserved.\r\n",
    " b. cancel_reservation(self): Cancels the reservation of the ticket if it is already\r\n",
    " reserved.\r\n",
    " c. display_ticket_info(self): Displays the information about the ticket, including its\r\n",
    " attributes and reservation status"
   ]
  },
  {
   "cell_type": "code",
   "execution_count": 31,
   "id": "2c94084f-7876-4eaa-be71-ccb81e7ebc46",
   "metadata": {},
   "outputs": [],
   "source": [
    "class Ticket:\n",
    "    def __init__(self,ticket_id,event_name,event_date,venue,seat_number,price):\n",
    "        self.ticket_id=ticket_id\n",
    "        self.event_name=event_name\n",
    "        self.event_date=event_date\n",
    "        self.venue=venue\n",
    "        self.seat_number=seat_number\n",
    "        self.price=price\n",
    "        self.is_reserved=False\n",
    "    def reserve_tickets(self):\n",
    "        if not self.is_reserved:\n",
    "            self.is_reserved=True\n",
    "            print(f\"ticket id is {self.ticket_id}\")\n",
    "        else:\n",
    "            print(f\"Ticket {self.ticket_id} is already reserved.\")\n",
    "\n",
    "    def cancel_tickets(self):\n",
    "        if self.is_reserved:\n",
    "            self.ireserved=False\n",
    "            print(f\"Reservation for ticket {self.ticket_id} has been cancelled.\")\n",
    "        else:\n",
    "            print(f\"Ticket {self.ticket_id} is not reserved.\")\n",
    "            \n",
    "\n",
    "    def display_ticket_info(self):\n",
    "        print(f\"Ticket id is {self.ticket_id} \\n event name is {self.event_name} \\n event date will {self.event_date} \\n our venue is {self.venue} \\n our confirm seat is {self.seat_number} total price is {self.price}\")\n",
    "    "
   ]
  },
  {
   "cell_type": "code",
   "execution_count": 32,
   "id": "37dbd01f-62a0-4f62-9469-4254f4bdcf6e",
   "metadata": {},
   "outputs": [],
   "source": [
    "t=Ticket(\"T1234\",\"Cricket match\",\"09.08.2024\",\"eden garden\",\"1345\",\"6000\")"
   ]
  },
  {
   "cell_type": "code",
   "execution_count": 33,
   "id": "c71fe8ad-7e37-49f9-b5c1-1762a8445cbb",
   "metadata": {},
   "outputs": [
    {
     "name": "stdout",
     "output_type": "stream",
     "text": [
      "Ticket id is T1234 \n",
      " event name is Cricket match \n",
      " event date will 09.08.2024 \n",
      " our venue is eden garden \n",
      " our confirm seat is 1345 total price is 6000\n"
     ]
    }
   ],
   "source": [
    "t.display_ticket_info()"
   ]
  },
  {
   "cell_type": "code",
   "execution_count": 35,
   "id": "eab268ea-8e4d-4e50-8f7e-a0cd64814a76",
   "metadata": {},
   "outputs": [
    {
     "name": "stdout",
     "output_type": "stream",
     "text": [
      "Ticket T1234 is already reserved.\n"
     ]
    }
   ],
   "source": [
    "t.reserve_tickets()"
   ]
  },
  {
   "cell_type": "code",
   "execution_count": 36,
   "id": "b61c0c01-1054-4018-a50e-7787846224d8",
   "metadata": {},
   "outputs": [
    {
     "name": "stdout",
     "output_type": "stream",
     "text": [
      "Reservation for ticket T1234 has been cancelled.\n"
     ]
    }
   ],
   "source": [
    "t.cancel_tickets()"
   ]
  },
  {
   "cell_type": "markdown",
   "id": "3c303df3-c8d7-4dcc-9fef-2ad611167c06",
   "metadata": {},
   "source": [
    " 9. You are creating a shopping cart for an e-commerce website. Using OOP to model\r\n",
    " the \"ShoppingCart\" functionality the class should contain following attributes and\r\n",
    " methods:\r\n",
    " a. items: Represents the list of items in the shopping cart.\r\n",
    " The class also includes the following methods:\r\n",
    "a. add_item(self, item): Adds an item to the shopping cart by appending it to the\r\n",
    " list of items.\r\n",
    " b. remove_item(self, item): Removes an item from the shopping cart if it exists in\r\n",
    " the list.\r\n",
    " c. view_cart(self): Displays the items currently present in the shopping cart.\r\n",
    " d. clear_cart(self): Clears all items from the shopping cart by reassigning an\r\n",
    " empty list to the items attribute"
   ]
  },
  {
   "cell_type": "code",
   "execution_count": 42,
   "id": "5a502f1c-0f04-414b-92d2-c2a306cda926",
   "metadata": {},
   "outputs": [],
   "source": [
    "class shoppingcart:\n",
    "    def __init__(self):\n",
    "        self.items=[]\n",
    "    def add_item(self,item):\n",
    "        self.items.append(item)\n",
    "    def remove_item(self,item):\n",
    "        if item in self.items:\n",
    "            self.item.remove(item)\n",
    "        else:\n",
    "            print(f\"Item '{item}' not found in the cart\")\n",
    "    def view_cart(self):\n",
    "        if self.items:\n",
    "            print(\"Items in the shopping cart:\")\n",
    "            for item in self.items:\n",
    "                print(f\"- {item}\")\n",
    "        else:\n",
    "            print(\"The shopping cart is empty.\")\n",
    "    \n",
    "    def clear_cart(self):\n",
    "        self.items = []\n",
    "        print(\"The shopping cart has been cleared.\")\n",
    "    \n",
    "    \n",
    "        "
   ]
  },
  {
   "cell_type": "code",
   "execution_count": 44,
   "id": "fc63ed2c-55a3-4bb6-8128-3e5522b17b42",
   "metadata": {},
   "outputs": [
    {
     "name": "stdout",
     "output_type": "stream",
     "text": [
      "Items in the shopping cart:\n",
      "- Apple\n",
      "- Banana\n",
      "- Orange\n"
     ]
    },
    {
     "ename": "AttributeError",
     "evalue": "'shoppingcart' object has no attribute 'item'",
     "output_type": "error",
     "traceback": [
      "\u001b[1;31m---------------------------------------------------------------------------\u001b[0m",
      "\u001b[1;31mAttributeError\u001b[0m                            Traceback (most recent call last)",
      "Cell \u001b[1;32mIn[44], line 13\u001b[0m\n\u001b[0;32m     10\u001b[0m cart\u001b[38;5;241m.\u001b[39mview_cart()\n\u001b[0;32m     12\u001b[0m \u001b[38;5;66;03m# Remove an item from the cart\u001b[39;00m\n\u001b[1;32m---> 13\u001b[0m cart\u001b[38;5;241m.\u001b[39mremove_item(\u001b[38;5;124m\"\u001b[39m\u001b[38;5;124mBanana\u001b[39m\u001b[38;5;124m\"\u001b[39m)\n\u001b[0;32m     15\u001b[0m \u001b[38;5;66;03m# View items in the cart again\u001b[39;00m\n\u001b[0;32m     16\u001b[0m cart\u001b[38;5;241m.\u001b[39mview_cart()\n",
      "Cell \u001b[1;32mIn[42], line 8\u001b[0m, in \u001b[0;36mshoppingcart.remove_item\u001b[1;34m(self, item)\u001b[0m\n\u001b[0;32m      6\u001b[0m \u001b[38;5;28;01mdef\u001b[39;00m \u001b[38;5;21mremove_item\u001b[39m(\u001b[38;5;28mself\u001b[39m,item):\n\u001b[0;32m      7\u001b[0m     \u001b[38;5;28;01mif\u001b[39;00m item \u001b[38;5;129;01min\u001b[39;00m \u001b[38;5;28mself\u001b[39m\u001b[38;5;241m.\u001b[39mitems:\n\u001b[1;32m----> 8\u001b[0m         \u001b[38;5;28mself\u001b[39m\u001b[38;5;241m.\u001b[39mitem\u001b[38;5;241m.\u001b[39mremove(item)\n\u001b[0;32m      9\u001b[0m     \u001b[38;5;28;01melse\u001b[39;00m:\n\u001b[0;32m     10\u001b[0m         \u001b[38;5;28mprint\u001b[39m(\u001b[38;5;124mf\u001b[39m\u001b[38;5;124m\"\u001b[39m\u001b[38;5;124mItem \u001b[39m\u001b[38;5;124m'\u001b[39m\u001b[38;5;132;01m{\u001b[39;00mitem\u001b[38;5;132;01m}\u001b[39;00m\u001b[38;5;124m'\u001b[39m\u001b[38;5;124m not found in the cart\u001b[39m\u001b[38;5;124m\"\u001b[39m)\n",
      "\u001b[1;31mAttributeError\u001b[0m: 'shoppingcart' object has no attribute 'item'"
     ]
    }
   ],
   "source": [
    "# Create an instance of the ShoppingCart class\n",
    "cart = shoppingcart()\n",
    "\n",
    "# Add items to the cart\n",
    "cart.add_item(\"Apple\")\n",
    "cart.add_item(\"Banana\")\n",
    "cart.add_item(\"Orange\")\n",
    "\n",
    "# View items in the cart\n",
    "cart.view_cart()\n",
    "\n",
    "# Remove an item from the cart\n",
    "cart.remove_item(\"Banana\")\n",
    "\n",
    "# View items in the cart again\n",
    "cart.view_cart()\n",
    "\n",
    "# Clear the cart\n",
    "cart.clear_cart()\n",
    "\n",
    "# View items in the cart after clearing\n",
    "cart.view_cart()"
   ]
  },
  {
   "cell_type": "code",
   "execution_count": null,
   "id": "e1a6de14-4235-4b37-b1b9-627300bd5516",
   "metadata": {},
   "outputs": [],
   "source": []
  }
 ],
 "metadata": {
  "kernelspec": {
   "display_name": "Python 3 (ipykernel)",
   "language": "python",
   "name": "python3"
  },
  "language_info": {
   "codemirror_mode": {
    "name": "ipython",
    "version": 3
   },
   "file_extension": ".py",
   "mimetype": "text/x-python",
   "name": "python",
   "nbconvert_exporter": "python",
   "pygments_lexer": "ipython3",
   "version": "3.11.7"
  }
 },
 "nbformat": 4,
 "nbformat_minor": 5
}
